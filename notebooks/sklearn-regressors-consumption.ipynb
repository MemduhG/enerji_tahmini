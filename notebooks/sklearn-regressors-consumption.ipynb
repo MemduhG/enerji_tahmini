{
 "cells": [
  {
   "cell_type": "code",
   "execution_count": 1,
   "id": "0aaf6880-2dc3-4c19-8036-acebe9132644",
   "metadata": {},
   "outputs": [],
   "source": [
    "import pandas as pd\n",
    "\n",
    "imputed_df = pd.read_csv(\"imputed.csv\")"
   ]
  },
  {
   "cell_type": "code",
   "execution_count": 2,
   "id": "8ad481c9-b3b0-49cd-b0b7-66bbc9306da2",
   "metadata": {},
   "outputs": [],
   "source": [
    "imputed_df['next_6_hours_consumption'] = imputed_df['consumption'].shift(-1).rolling(window=6, min_periods=1).sum().shift(-6)\n",
    "#imputed_df['next_6_hours_consumption'] = imputed_df['consumption'].shift(-1).rolling(window=6, min_periods=1).sum().shift(-6)\n",
    "imputed_df = imputed_df[:-24]\n",
    "imputed_df\n",
    "\n",
    "train = imputed_df[: 365 * 2 * 24]\n",
    "dev = imputed_df[365 * 2 * 24: 365 * 2 * 24 + 250 * 24 ]\n",
    "test = imputed_df[365 * 2 * 24 + 250 * 24:]\n",
    "\n",
    "train_x = train.drop(\"next_6_hours_consumption\", axis=1)\n",
    "dev_x = dev.drop(\"next_6_hours_consumption\", axis=1)\n",
    "test_x = test.drop(\"next_6_hours_consumption\", axis=1)\n",
    "\n",
    "train_y = train[\"next_6_hours_consumption\"]\n",
    "dev_y = dev[\"next_6_hours_consumption\"]\n",
    "test_y = test[\"next_6_hours_consumption\"]"
   ]
  },
  {
   "cell_type": "code",
   "execution_count": 3,
   "id": "9fcd69eb-5bd9-486f-bb1b-98bfe0abace8",
   "metadata": {},
   "outputs": [],
   "source": [
    "#from sklearn import svm\n",
    "# this takes forever\n",
    "#regr = svm.SVR(kernel=\"linear\") \n",
    "#regr.fit(train_x, train_y)\n",
    "\n",
    "#from sklearn.metrics import mean_squared_error\n",
    "\n",
    "\n",
    "#y_pred = regr.predict(dev_x)\n",
    "#error = mean_squared_error(y_true=dev_y, y_pred=y_pred, squared=False)\n",
    "#error\n"
   ]
  },
  {
   "cell_type": "code",
   "execution_count": 4,
   "id": "abb59d55-791f-4a86-99f3-0fd6877f3dc3",
   "metadata": {},
   "outputs": [
    {
     "name": "stderr",
     "output_type": "stream",
     "text": [
      "/Users/memduhgokirmak/git/enerji-tahmini/venv/lib/python3.9/site-packages/sklearn/metrics/_regression.py:483: FutureWarning: 'squared' is deprecated in version 1.4 and will be removed in 1.6. To calculate the root mean squared error, use the function'root_mean_squared_error'.\n",
      "  warnings.warn(\n"
     ]
    },
    {
     "data": {
      "text/plain": [
       "34168.758845671626"
      ]
     },
     "execution_count": 4,
     "metadata": {},
     "output_type": "execute_result"
    }
   ],
   "source": [
    "from sklearn import linear_model\n",
    "\n",
    "regr = linear_model.Ridge(alpha=.5)\n",
    "regr.fit(train_x, train_y)\n",
    "\n",
    "from sklearn.metrics import mean_squared_error\n",
    "\n",
    "\n",
    "y_pred = regr.predict(dev_x)\n",
    "error = mean_squared_error(y_true=dev_y, y_pred=y_pred, squared=False)\n",
    "error"
   ]
  },
  {
   "cell_type": "code",
   "execution_count": 5,
   "id": "92afe145-f3ca-4657-951d-09cffa4c4f6b",
   "metadata": {},
   "outputs": [
    {
     "name": "stderr",
     "output_type": "stream",
     "text": [
      "/Users/memduhgokirmak/git/enerji-tahmini/venv/lib/python3.9/site-packages/sklearn/metrics/_regression.py:483: FutureWarning: 'squared' is deprecated in version 1.4 and will be removed in 1.6. To calculate the root mean squared error, use the function'root_mean_squared_error'.\n",
      "  warnings.warn(\n"
     ]
    },
    {
     "data": {
      "text/plain": [
       "35469.7548534538"
      ]
     },
     "execution_count": 5,
     "metadata": {},
     "output_type": "execute_result"
    }
   ],
   "source": [
    "from sklearn import svm\n",
    "\n",
    "regr = svm.SVR()  # default is rbf\n",
    "regr.fit(train_x, train_y)  \n",
    "\n",
    "from sklearn.metrics import mean_squared_error\n",
    "\n",
    "\n",
    "y_pred = regr.predict(dev_x)\n",
    "error = mean_squared_error(y_true=dev_y, y_pred=y_pred, squared=False)\n",
    "error"
   ]
  },
  {
   "cell_type": "code",
   "execution_count": 6,
   "id": "48832d7e-eb4e-4335-bad3-6d4cef185009",
   "metadata": {},
   "outputs": [
    {
     "name": "stderr",
     "output_type": "stream",
     "text": [
      "/Users/memduhgokirmak/git/enerji-tahmini/venv/lib/python3.9/site-packages/sklearn/metrics/_regression.py:483: FutureWarning: 'squared' is deprecated in version 1.4 and will be removed in 1.6. To calculate the root mean squared error, use the function'root_mean_squared_error'.\n",
      "  warnings.warn(\n"
     ]
    },
    {
     "data": {
      "text/plain": [
       "25065.254123485898"
      ]
     },
     "execution_count": 6,
     "metadata": {},
     "output_type": "execute_result"
    }
   ],
   "source": [
    "from sklearn.ensemble import RandomForestRegressor\n",
    "\n",
    "regr = RandomForestRegressor(max_depth=2, random_state=0)\n",
    "\n",
    "regr.fit(train_x, train_y)  \n",
    "\n",
    "from sklearn.metrics import mean_squared_error\n",
    "\n",
    "\n",
    "y_pred = regr.predict(dev_x)\n",
    "error = mean_squared_error(y_true=dev_y, y_pred=y_pred, squared=False)\n",
    "error"
   ]
  },
  {
   "cell_type": "code",
   "execution_count": null,
   "id": "2ad9cf69-0991-4c32-a380-67e604b90524",
   "metadata": {},
   "outputs": [],
   "source": []
  },
  {
   "cell_type": "code",
   "execution_count": 7,
   "id": "de742652-c1b9-4ab4-a916-a799707bb67e",
   "metadata": {},
   "outputs": [
    {
     "name": "stderr",
     "output_type": "stream",
     "text": [
      "/Users/memduhgokirmak/git/enerji-tahmini/venv/lib/python3.9/site-packages/sklearn/metrics/_regression.py:483: FutureWarning: 'squared' is deprecated in version 1.4 and will be removed in 1.6. To calculate the root mean squared error, use the function'root_mean_squared_error'.\n",
      "  warnings.warn(\n"
     ]
    },
    {
     "data": {
      "text/plain": [
       "9237.434259250585"
      ]
     },
     "execution_count": 7,
     "metadata": {},
     "output_type": "execute_result"
    }
   ],
   "source": [
    "from sklearn.ensemble import RandomForestRegressor\n",
    "\n",
    "regr = RandomForestRegressor(random_state=0) # no max depth\n",
    "\n",
    "regr.fit(train_x, train_y)  \n",
    "\n",
    "from sklearn.metrics import mean_squared_error\n",
    "\n",
    "\n",
    "y_pred = regr.predict(dev_x)\n",
    "error = mean_squared_error(y_true=dev_y, y_pred=y_pred, squared=False)\n",
    "error"
   ]
  },
  {
   "cell_type": "code",
   "execution_count": 8,
   "id": "ae02403b-6910-4ebd-9bf4-90a738130b8c",
   "metadata": {},
   "outputs": [
    {
     "name": "stderr",
     "output_type": "stream",
     "text": [
      "/Users/memduhgokirmak/git/enerji-tahmini/venv/lib/python3.9/site-packages/sklearn/metrics/_regression.py:483: FutureWarning: 'squared' is deprecated in version 1.4 and will be removed in 1.6. To calculate the root mean squared error, use the function'root_mean_squared_error'.\n",
      "  warnings.warn(\n"
     ]
    },
    {
     "data": {
      "text/plain": [
       "15182.281643812967"
      ]
     },
     "execution_count": 8,
     "metadata": {},
     "output_type": "execute_result"
    }
   ],
   "source": [
    "from sklearn.ensemble import AdaBoostRegressor\n",
    "regr = AdaBoostRegressor(random_state=0, n_estimators=100)\n",
    "\n",
    "regr.fit(train_x, train_y)  \n",
    "\n",
    "from sklearn.metrics import mean_squared_error\n",
    "\n",
    "\n",
    "y_pred = regr.predict(dev_x)\n",
    "error = mean_squared_error(y_true=dev_y, y_pred=y_pred, squared=False)\n",
    "error"
   ]
  },
  {
   "cell_type": "code",
   "execution_count": 9,
   "id": "e31ccfc5-c238-4bdf-9002-cd57ea94e76a",
   "metadata": {},
   "outputs": [
    {
     "name": "stderr",
     "output_type": "stream",
     "text": [
      "/Users/memduhgokirmak/git/enerji-tahmini/venv/lib/python3.9/site-packages/sklearn/linear_model/_coordinate_descent.py:678: ConvergenceWarning: Objective did not converge. You might want to increase the number of iterations, check the scale of the features or consider increasing regularisation. Duality gap: 2.485e+12, tolerance: 1.680e+09\n",
      "  model = cd_fast.enet_coordinate_descent(\n",
      "/Users/memduhgokirmak/git/enerji-tahmini/venv/lib/python3.9/site-packages/sklearn/metrics/_regression.py:483: FutureWarning: 'squared' is deprecated in version 1.4 and will be removed in 1.6. To calculate the root mean squared error, use the function'root_mean_squared_error'.\n",
      "  warnings.warn(\n"
     ]
    },
    {
     "data": {
      "text/plain": [
       "36909.65956626592"
      ]
     },
     "execution_count": 9,
     "metadata": {},
     "output_type": "execute_result"
    }
   ],
   "source": [
    "from sklearn import linear_model\n",
    "regr = linear_model.Lasso(alpha=0.1)\n",
    "\n",
    "regr.fit(train_x, train_y)  \n",
    "\n",
    "from sklearn.metrics import mean_squared_error\n",
    "\n",
    "\n",
    "y_pred = regr.predict(dev_x)\n",
    "error = mean_squared_error(y_true=dev_y, y_pred=y_pred, squared=False)\n",
    "error"
   ]
  },
  {
   "cell_type": "code",
   "execution_count": 10,
   "id": "a1edaae6-5fb7-4a66-8d4b-0bc4db758be7",
   "metadata": {},
   "outputs": [
    {
     "name": "stderr",
     "output_type": "stream",
     "text": [
      "/Users/memduhgokirmak/git/enerji-tahmini/venv/lib/python3.9/site-packages/sklearn/linear_model/_coordinate_descent.py:678: ConvergenceWarning: Objective did not converge. You might want to increase the number of iterations, check the scale of the features or consider increasing regularisation. Duality gap: 2.519e+12, tolerance: 1.680e+09\n",
      "  model = cd_fast.enet_coordinate_descent(\n",
      "/Users/memduhgokirmak/git/enerji-tahmini/venv/lib/python3.9/site-packages/sklearn/metrics/_regression.py:483: FutureWarning: 'squared' is deprecated in version 1.4 and will be removed in 1.6. To calculate the root mean squared error, use the function'root_mean_squared_error'.\n",
      "  warnings.warn(\n"
     ]
    },
    {
     "data": {
      "text/plain": [
       "37678.011040675134"
      ]
     },
     "execution_count": 10,
     "metadata": {},
     "output_type": "execute_result"
    }
   ],
   "source": [
    "from sklearn.linear_model import ElasticNet\n",
    "regr = ElasticNet(random_state=0)\n",
    "\n",
    "\n",
    "regr.fit(train_x, train_y)  \n",
    "\n",
    "from sklearn.metrics import mean_squared_error\n",
    "\n",
    "\n",
    "y_pred = regr.predict(dev_x)\n",
    "error = mean_squared_error(y_true=dev_y, y_pred=y_pred, squared=False)\n",
    "error"
   ]
  },
  {
   "cell_type": "code",
   "execution_count": 11,
   "id": "9b50965a-bc70-4fef-844b-591af621b270",
   "metadata": {},
   "outputs": [
    {
     "name": "stderr",
     "output_type": "stream",
     "text": [
      "/Users/memduhgokirmak/git/enerji-tahmini/venv/lib/python3.9/site-packages/sklearn/metrics/_regression.py:483: FutureWarning: 'squared' is deprecated in version 1.4 and will be removed in 1.6. To calculate the root mean squared error, use the function'root_mean_squared_error'.\n",
      "  warnings.warn(\n"
     ]
    },
    {
     "data": {
      "text/plain": [
       "14428.927274291997"
      ]
     },
     "execution_count": 11,
     "metadata": {},
     "output_type": "execute_result"
    }
   ],
   "source": [
    "from sklearn.ensemble import GradientBoostingRegressor\n",
    "from sklearn.ensemble import RandomForestRegressor\n",
    "from sklearn.linear_model import LinearRegression\n",
    "from sklearn.ensemble import VotingRegressor\n",
    "\n",
    "reg1 = GradientBoostingRegressor(random_state=1)\n",
    "reg2 = RandomForestRegressor(random_state=1)\n",
    "reg3 = LinearRegression()\n",
    "regr = VotingRegressor(estimators=[('gb', reg1), ('rf', reg2), ('lr', reg3)])\n",
    "regr.fit(train_x, train_y)  \n",
    "\n",
    "from sklearn.metrics import mean_squared_error\n",
    "\n",
    "\n",
    "y_pred = regr.predict(dev_x)\n",
    "error = mean_squared_error(y_true=dev_y, y_pred=y_pred, squared=False)\n",
    "error"
   ]
  },
  {
   "cell_type": "code",
   "execution_count": 12,
   "id": "3ea07862-2daf-45ec-8733-2ed79333d82d",
   "metadata": {},
   "outputs": [
    {
     "name": "stdout",
     "output_type": "stream",
     "text": [
      "Requirement already satisfied: xgboost in /Users/memduhgokirmak/git/enerji-tahmini/venv/lib/python3.9/site-packages (2.0.3)\n",
      "Requirement already satisfied: numpy in /Users/memduhgokirmak/git/enerji-tahmini/venv/lib/python3.9/site-packages (from xgboost) (1.26.4)\n",
      "Requirement already satisfied: scipy in /Users/memduhgokirmak/git/enerji-tahmini/venv/lib/python3.9/site-packages (from xgboost) (1.13.0)\n",
      "\n",
      "\u001b[1m[\u001b[0m\u001b[34;49mnotice\u001b[0m\u001b[1;39;49m]\u001b[0m\u001b[39;49m A new release of pip available: \u001b[0m\u001b[31;49m22.3.1\u001b[0m\u001b[39;49m -> \u001b[0m\u001b[32;49m24.0\u001b[0m\n",
      "\u001b[1m[\u001b[0m\u001b[34;49mnotice\u001b[0m\u001b[1;39;49m]\u001b[0m\u001b[39;49m To update, run: \u001b[0m\u001b[32;49mpip install --upgrade pip\u001b[0m\n"
     ]
    },
    {
     "name": "stderr",
     "output_type": "stream",
     "text": [
      "/Users/memduhgokirmak/git/enerji-tahmini/venv/lib/python3.9/site-packages/sklearn/metrics/_regression.py:483: FutureWarning: 'squared' is deprecated in version 1.4 and will be removed in 1.6. To calculate the root mean squared error, use the function'root_mean_squared_error'.\n",
      "  warnings.warn(\n"
     ]
    },
    {
     "data": {
      "text/plain": [
       "10109.952065319434"
      ]
     },
     "execution_count": 12,
     "metadata": {},
     "output_type": "execute_result"
    }
   ],
   "source": [
    "!pip install xgboost\n",
    "\n",
    "import xgboost as xgb\n",
    "\n",
    "\n",
    "regr = xgb.XGBRegressor(n_jobs=1)\n",
    "\n",
    "regr.fit(train_x, train_y)  \n",
    "\n",
    "from sklearn.metrics import mean_squared_error\n",
    "\n",
    "\n",
    "y_pred = regr.predict(dev_x)\n",
    "error = mean_squared_error(y_true=dev_y, y_pred=y_pred, squared=False)\n",
    "error"
   ]
  },
  {
   "cell_type": "code",
   "execution_count": 13,
   "id": "b6f8df75-59a0-47e6-982a-30d2d898679c",
   "metadata": {},
   "outputs": [],
   "source": [
    "from sklearn.preprocessing import StandardScaler\n",
    "scaler = StandardScaler()\n",
    "scaler = scaler.fit(train_x)\n",
    "train_x_scaled = scaler.transform(train_x)\n",
    "dev_x_scaled =   scaler.transform(dev_x)"
   ]
  },
  {
   "cell_type": "code",
   "execution_count": 14,
   "id": "a0bacf1d-3d11-4e75-be74-ad40292df961",
   "metadata": {},
   "outputs": [
    {
     "name": "stderr",
     "output_type": "stream",
     "text": [
      "/Users/memduhgokirmak/git/enerji-tahmini/venv/lib/python3.9/site-packages/sklearn/metrics/_regression.py:483: FutureWarning: 'squared' is deprecated in version 1.4 and will be removed in 1.6. To calculate the root mean squared error, use the function'root_mean_squared_error'.\n",
      "  warnings.warn(\n"
     ]
    },
    {
     "data": {
      "text/plain": [
       "9244.190495649706"
      ]
     },
     "execution_count": 14,
     "metadata": {},
     "output_type": "execute_result"
    }
   ],
   "source": [
    "regr = RandomForestRegressor(random_state=0) # no max depth\n",
    "\n",
    "regr.fit(train_x_scaled, train_y)  \n",
    "\n",
    "from sklearn.metrics import mean_squared_error\n",
    "\n",
    "\n",
    "y_pred = regr.predict(dev_x_scaled)\n",
    "error = mean_squared_error(y_true=dev_y, y_pred=y_pred, squared=False)\n",
    "error"
   ]
  },
  {
   "cell_type": "code",
   "execution_count": 15,
   "id": "81a86e21-acb0-4dff-9665-5791503158f6",
   "metadata": {},
   "outputs": [
    {
     "name": "stderr",
     "output_type": "stream",
     "text": [
      "/Users/memduhgokirmak/git/enerji-tahmini/venv/lib/python3.9/site-packages/sklearn/metrics/_regression.py:483: FutureWarning: 'squared' is deprecated in version 1.4 and will be removed in 1.6. To calculate the root mean squared error, use the function'root_mean_squared_error'.\n",
      "  warnings.warn(\n"
     ]
    },
    {
     "data": {
      "text/plain": [
       "34191.84580591629"
      ]
     },
     "execution_count": 15,
     "metadata": {},
     "output_type": "execute_result"
    }
   ],
   "source": [
    "\n",
    "regr = linear_model.Ridge(alpha=.5)\n",
    "regr.fit(train_x_scaled, train_y)\n",
    "\n",
    "from sklearn.metrics import mean_squared_error\n",
    "\n",
    "\n",
    "y_pred = regr.predict(dev_x_scaled)\n",
    "error = mean_squared_error(y_true=dev_y, y_pred=y_pred, squared=False)\n",
    "error"
   ]
  },
  {
   "cell_type": "code",
   "execution_count": 16,
   "id": "08a4c22e-6567-4f0d-8631-5b0412831856",
   "metadata": {},
   "outputs": [
    {
     "name": "stderr",
     "output_type": "stream",
     "text": [
      "/Users/memduhgokirmak/git/enerji-tahmini/venv/lib/python3.9/site-packages/sklearn/metrics/_regression.py:483: FutureWarning: 'squared' is deprecated in version 1.4 and will be removed in 1.6. To calculate the root mean squared error, use the function'root_mean_squared_error'.\n",
      "  warnings.warn(\n"
     ]
    },
    {
     "data": {
      "text/plain": [
       "14715.197572621366"
      ]
     },
     "execution_count": 16,
     "metadata": {},
     "output_type": "execute_result"
    }
   ],
   "source": [
    "from sklearn.ensemble import AdaBoostRegressor\n",
    "regr = AdaBoostRegressor(random_state=0, n_estimators=100)\n",
    "\n",
    "regr.fit(train_x_scaled, train_y)  \n",
    "\n",
    "from sklearn.metrics import mean_squared_error\n",
    "\n",
    "\n",
    "y_pred = regr.predict(dev_x_scaled)\n",
    "error = mean_squared_error(y_true=dev_y, y_pred=y_pred, squared=False)\n",
    "error"
   ]
  },
  {
   "cell_type": "code",
   "execution_count": 17,
   "id": "d3d033df-a1d9-4a35-ae86-d85198c091ef",
   "metadata": {},
   "outputs": [
    {
     "name": "stderr",
     "output_type": "stream",
     "text": [
      "/Users/memduhgokirmak/git/enerji-tahmini/venv/lib/python3.9/site-packages/sklearn/metrics/_regression.py:483: FutureWarning: 'squared' is deprecated in version 1.4 and will be removed in 1.6. To calculate the root mean squared error, use the function'root_mean_squared_error'.\n",
      "  warnings.warn(\n"
     ]
    },
    {
     "data": {
      "text/plain": [
       "9919.107366450646"
      ]
     },
     "execution_count": 17,
     "metadata": {},
     "output_type": "execute_result"
    }
   ],
   "source": [
    "regr = xgb.XGBRegressor(n_jobs=1)\n",
    "\n",
    "regr.fit(train_x_scaled, train_y)  \n",
    "\n",
    "from sklearn.metrics import mean_squared_error\n",
    "\n",
    "\n",
    "y_pred = regr.predict(dev_x_scaled)\n",
    "error = mean_squared_error(y_true=dev_y, y_pred=y_pred, squared=False)\n",
    "error"
   ]
  },
  {
   "cell_type": "code",
   "execution_count": 19,
   "id": "d017744e-250f-4b8a-b129-5c39c35baad0",
   "metadata": {},
   "outputs": [
    {
     "name": "stderr",
     "output_type": "stream",
     "text": [
      "/Users/memduhgokirmak/git/enerji-tahmini/venv/lib/python3.9/site-packages/sklearn/neural_network/_multilayer_perceptron.py:691: ConvergenceWarning: Stochastic Optimizer: Maximum iterations (500) reached and the optimization hasn't converged yet.\n",
      "  warnings.warn(\n",
      "/Users/memduhgokirmak/git/enerji-tahmini/venv/lib/python3.9/site-packages/sklearn/metrics/_regression.py:483: FutureWarning: 'squared' is deprecated in version 1.4 and will be removed in 1.6. To calculate the root mean squared error, use the function'root_mean_squared_error'.\n",
      "  warnings.warn(\n"
     ]
    },
    {
     "data": {
      "text/plain": [
       "74227.68686501465"
      ]
     },
     "execution_count": 19,
     "metadata": {},
     "output_type": "execute_result"
    }
   ],
   "source": [
    "from sklearn.neural_network import MLPRegressor\n",
    "\n",
    "regr = MLPRegressor(random_state=1, max_iter=500)\n",
    "regr.fit(train_x_scaled, train_y)  \n",
    "\n",
    "from sklearn.metrics import mean_squared_error\n",
    "\n",
    "\n",
    "y_pred = regr.predict(dev_x_scaled)\n",
    "error = mean_squared_error(y_true=dev_y, y_pred=y_pred, squared=False)\n",
    "error"
   ]
  },
  {
   "cell_type": "code",
   "execution_count": 20,
   "id": "6915e2b0-6b7d-4c18-bf10-6c22cb8f92dd",
   "metadata": {},
   "outputs": [
    {
     "name": "stderr",
     "output_type": "stream",
     "text": [
      "/Users/memduhgokirmak/git/enerji-tahmini/venv/lib/python3.9/site-packages/sklearn/neural_network/_multilayer_perceptron.py:691: ConvergenceWarning: Stochastic Optimizer: Maximum iterations (500) reached and the optimization hasn't converged yet.\n",
      "  warnings.warn(\n",
      "/Users/memduhgokirmak/git/enerji-tahmini/venv/lib/python3.9/site-packages/sklearn/metrics/_regression.py:483: FutureWarning: 'squared' is deprecated in version 1.4 and will be removed in 1.6. To calculate the root mean squared error, use the function'root_mean_squared_error'.\n",
      "  warnings.warn(\n"
     ]
    },
    {
     "data": {
      "text/plain": [
       "107173.72512504576"
      ]
     },
     "execution_count": 20,
     "metadata": {},
     "output_type": "execute_result"
    }
   ],
   "source": [
    "from sklearn.neural_network import MLPRegressor\n",
    "\n",
    "regr = MLPRegressor(hidden_layer_sizes=(100,100), random_state=1, max_iter=500)\n",
    "regr.fit(train_x_scaled, train_y)  \n",
    "\n",
    "from sklearn.metrics import mean_squared_error\n",
    "\n",
    "\n",
    "y_pred = regr.predict(dev_x_scaled)\n",
    "error = mean_squared_error(y_true=dev_y, y_pred=y_pred, squared=False)\n",
    "error"
   ]
  },
  {
   "cell_type": "code",
   "execution_count": null,
   "id": "f2a30c49-8a02-42af-8d79-97498fe3ab26",
   "metadata": {},
   "outputs": [],
   "source": []
  }
 ],
 "metadata": {
  "kernelspec": {
   "display_name": "Python 3 (ipykernel)",
   "language": "python",
   "name": "python3"
  },
  "language_info": {
   "codemirror_mode": {
    "name": "ipython",
    "version": 3
   },
   "file_extension": ".py",
   "mimetype": "text/x-python",
   "name": "python",
   "nbconvert_exporter": "python",
   "pygments_lexer": "ipython3",
   "version": "3.9.6"
  }
 },
 "nbformat": 4,
 "nbformat_minor": 5
}
