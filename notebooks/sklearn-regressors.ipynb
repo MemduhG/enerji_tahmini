{
 "cells": [
  {
   "cell_type": "code",
   "execution_count": 1,
   "id": "0aaf6880-2dc3-4c19-8036-acebe9132644",
   "metadata": {},
   "outputs": [],
   "source": [
    "import pandas as pd\n",
    "\n",
    "imputed_df = pd.read_csv(\"imputed.csv\")"
   ]
  },
  {
   "cell_type": "code",
   "execution_count": 2,
   "id": "8ad481c9-b3b0-49cd-b0b7-66bbc9306da2",
   "metadata": {},
   "outputs": [],
   "source": [
    "imputed_df['next_6_hours_production'] = imputed_df['production'].shift(-1).rolling(window=6, min_periods=1).sum().shift(-6)\n",
    "#imputed_df['next_6_hours_consumption'] = imputed_df['consumption'].shift(-1).rolling(window=6, min_periods=1).sum().shift(-6)\n",
    "imputed_df = imputed_df[:-24]\n",
    "imputed_df\n",
    "\n",
    "train = imputed_df[: 365 * 2 * 24]\n",
    "dev = imputed_df[365 * 2 * 24: 365 * 2 * 24 + 250 * 24 ]\n",
    "test = imputed_df[365 * 2 * 24 + 250 * 24:]\n",
    "\n",
    "train_x = train.drop(\"next_6_hours_production\", axis=1)\n",
    "dev_x = dev.drop(\"next_6_hours_production\", axis=1)\n",
    "test_x = test.drop(\"next_6_hours_production\", axis=1)\n",
    "\n",
    "train_y = train[\"next_6_hours_production\"]\n",
    "dev_y = dev[\"next_6_hours_production\"]\n",
    "test_y = test[\"next_6_hours_production\"]"
   ]
  },
  {
   "cell_type": "code",
   "execution_count": 3,
   "id": "9fcd69eb-5bd9-486f-bb1b-98bfe0abace8",
   "metadata": {},
   "outputs": [],
   "source": [
    "#from sklearn import svm\n",
    "# this takes forever\n",
    "#regr = svm.SVR(kernel=\"linear\") \n",
    "#regr.fit(train_x, train_y)\n",
    "\n",
    "#from sklearn.metrics import mean_squared_error\n",
    "\n",
    "\n",
    "#y_pred = regr.predict(dev_x)\n",
    "#error = mean_squared_error(y_true=dev_y, y_pred=y_pred, squared=False)\n",
    "#error\n"
   ]
  },
  {
   "cell_type": "code",
   "execution_count": 10,
   "id": "abb59d55-791f-4a86-99f3-0fd6877f3dc3",
   "metadata": {},
   "outputs": [
    {
     "name": "stderr",
     "output_type": "stream",
     "text": [
      "/Users/memduhgokirmak/git/enerji-tahmini/venv/lib/python3.9/site-packages/sklearn/metrics/_regression.py:483: FutureWarning: 'squared' is deprecated in version 1.4 and will be removed in 1.6. To calculate the root mean squared error, use the function'root_mean_squared_error'.\n",
      "  warnings.warn(\n"
     ]
    },
    {
     "data": {
      "text/plain": [
       "34188.162006513856"
      ]
     },
     "execution_count": 10,
     "metadata": {},
     "output_type": "execute_result"
    }
   ],
   "source": [
    "from sklearn import linear_model\n",
    "\n",
    "regr = linear_model.Ridge(alpha=.5)\n",
    "regr.fit(train_x, train_y)\n",
    "\n",
    "from sklearn.metrics import mean_squared_error\n",
    "\n",
    "\n",
    "y_pred = regr.predict(dev_x)\n",
    "error = mean_squared_error(y_true=dev_y, y_pred=y_pred, squared=False)\n",
    "error"
   ]
  },
  {
   "cell_type": "code",
   "execution_count": 5,
   "id": "92afe145-f3ca-4657-951d-09cffa4c4f6b",
   "metadata": {},
   "outputs": [
    {
     "name": "stderr",
     "output_type": "stream",
     "text": [
      "/Users/memduhgokirmak/git/enerji-tahmini/venv/lib/python3.9/site-packages/sklearn/metrics/_regression.py:483: FutureWarning: 'squared' is deprecated in version 1.4 and will be removed in 1.6. To calculate the root mean squared error, use the function'root_mean_squared_error'.\n",
      "  warnings.warn(\n"
     ]
    },
    {
     "data": {
      "text/plain": [
       "35343.70216505141"
      ]
     },
     "execution_count": 5,
     "metadata": {},
     "output_type": "execute_result"
    }
   ],
   "source": [
    "from sklearn import svm\n",
    "\n",
    "regr = svm.SVR()  # default is rbf\n",
    "regr.fit(train_x, train_y)  \n",
    "\n",
    "from sklearn.metrics import mean_squared_error\n",
    "\n",
    "\n",
    "y_pred = regr.predict(dev_x)\n",
    "error = mean_squared_error(y_true=dev_y, y_pred=y_pred, squared=False)\n",
    "error"
   ]
  },
  {
   "cell_type": "code",
   "execution_count": 6,
   "id": "48832d7e-eb4e-4335-bad3-6d4cef185009",
   "metadata": {},
   "outputs": [
    {
     "name": "stderr",
     "output_type": "stream",
     "text": [
      "/Users/memduhgokirmak/git/enerji-tahmini/venv/lib/python3.9/site-packages/sklearn/metrics/_regression.py:483: FutureWarning: 'squared' is deprecated in version 1.4 and will be removed in 1.6. To calculate the root mean squared error, use the function'root_mean_squared_error'.\n",
      "  warnings.warn(\n"
     ]
    },
    {
     "data": {
      "text/plain": [
       "24887.55719383647"
      ]
     },
     "execution_count": 6,
     "metadata": {},
     "output_type": "execute_result"
    }
   ],
   "source": [
    "from sklearn.ensemble import RandomForestRegressor\n",
    "\n",
    "regr = RandomForestRegressor(max_depth=2, random_state=0)\n",
    "\n",
    "regr.fit(train_x, train_y)  \n",
    "\n",
    "from sklearn.metrics import mean_squared_error\n",
    "\n",
    "\n",
    "y_pred = regr.predict(dev_x)\n",
    "error = mean_squared_error(y_true=dev_y, y_pred=y_pred, squared=False)\n",
    "error"
   ]
  },
  {
   "cell_type": "code",
   "execution_count": 11,
   "id": "ae02403b-6910-4ebd-9bf4-90a738130b8c",
   "metadata": {},
   "outputs": [
    {
     "name": "stderr",
     "output_type": "stream",
     "text": [
      "/Users/memduhgokirmak/git/enerji-tahmini/venv/lib/python3.9/site-packages/sklearn/metrics/_regression.py:483: FutureWarning: 'squared' is deprecated in version 1.4 and will be removed in 1.6. To calculate the root mean squared error, use the function'root_mean_squared_error'.\n",
      "  warnings.warn(\n"
     ]
    },
    {
     "data": {
      "text/plain": [
       "14781.625115677825"
      ]
     },
     "execution_count": 11,
     "metadata": {},
     "output_type": "execute_result"
    }
   ],
   "source": [
    "from sklearn.ensemble import AdaBoostRegressor\n",
    "regr = AdaBoostRegressor(random_state=0, n_estimators=100)\n",
    "\n",
    "regr.fit(train_x, train_y)  \n",
    "\n",
    "from sklearn.metrics import mean_squared_error\n",
    "\n",
    "\n",
    "y_pred = regr.predict(dev_x)\n",
    "error = mean_squared_error(y_true=dev_y, y_pred=y_pred, squared=False)\n",
    "error"
   ]
  },
  {
   "cell_type": "code",
   "execution_count": 12,
   "id": "e31ccfc5-c238-4bdf-9002-cd57ea94e76a",
   "metadata": {},
   "outputs": [
    {
     "name": "stderr",
     "output_type": "stream",
     "text": [
      "/Users/memduhgokirmak/git/enerji-tahmini/venv/lib/python3.9/site-packages/sklearn/linear_model/_coordinate_descent.py:678: ConvergenceWarning: Objective did not converge. You might want to increase the number of iterations, check the scale of the features or consider increasing regularisation. Duality gap: 2.530e+12, tolerance: 1.726e+09\n",
      "  model = cd_fast.enet_coordinate_descent(\n",
      "/Users/memduhgokirmak/git/enerji-tahmini/venv/lib/python3.9/site-packages/sklearn/metrics/_regression.py:483: FutureWarning: 'squared' is deprecated in version 1.4 and will be removed in 1.6. To calculate the root mean squared error, use the function'root_mean_squared_error'.\n",
      "  warnings.warn(\n"
     ]
    },
    {
     "data": {
      "text/plain": [
       "37128.83981962957"
      ]
     },
     "execution_count": 12,
     "metadata": {},
     "output_type": "execute_result"
    }
   ],
   "source": [
    "from sklearn import linear_model\n",
    "regr = linear_model.Lasso(alpha=0.1)\n",
    "\n",
    "regr.fit(train_x, train_y)  \n",
    "\n",
    "from sklearn.metrics import mean_squared_error\n",
    "\n",
    "\n",
    "y_pred = regr.predict(dev_x)\n",
    "error = mean_squared_error(y_true=dev_y, y_pred=y_pred, squared=False)\n",
    "error"
   ]
  },
  {
   "cell_type": "code",
   "execution_count": 13,
   "id": "a1edaae6-5fb7-4a66-8d4b-0bc4db758be7",
   "metadata": {},
   "outputs": [
    {
     "name": "stderr",
     "output_type": "stream",
     "text": [
      "/Users/memduhgokirmak/git/enerji-tahmini/venv/lib/python3.9/site-packages/sklearn/linear_model/_coordinate_descent.py:678: ConvergenceWarning: Objective did not converge. You might want to increase the number of iterations, check the scale of the features or consider increasing regularisation. Duality gap: 2.565e+12, tolerance: 1.726e+09\n",
      "  model = cd_fast.enet_coordinate_descent(\n",
      "/Users/memduhgokirmak/git/enerji-tahmini/venv/lib/python3.9/site-packages/sklearn/metrics/_regression.py:483: FutureWarning: 'squared' is deprecated in version 1.4 and will be removed in 1.6. To calculate the root mean squared error, use the function'root_mean_squared_error'.\n",
      "  warnings.warn(\n"
     ]
    },
    {
     "data": {
      "text/plain": [
       "37913.75640883036"
      ]
     },
     "execution_count": 13,
     "metadata": {},
     "output_type": "execute_result"
    }
   ],
   "source": [
    "from sklearn.linear_model import ElasticNet\n",
    "regr = ElasticNet(random_state=0)\n",
    "\n",
    "\n",
    "regr.fit(train_x, train_y)  \n",
    "\n",
    "from sklearn.metrics import mean_squared_error\n",
    "\n",
    "\n",
    "y_pred = regr.predict(dev_x)\n",
    "error = mean_squared_error(y_true=dev_y, y_pred=y_pred, squared=False)\n",
    "error"
   ]
  },
  {
   "cell_type": "code",
   "execution_count": 16,
   "id": "9b50965a-bc70-4fef-844b-591af621b270",
   "metadata": {},
   "outputs": [
    {
     "name": "stderr",
     "output_type": "stream",
     "text": [
      "/Users/memduhgokirmak/git/enerji-tahmini/venv/lib/python3.9/site-packages/sklearn/metrics/_regression.py:483: FutureWarning: 'squared' is deprecated in version 1.4 and will be removed in 1.6. To calculate the root mean squared error, use the function'root_mean_squared_error'.\n",
      "  warnings.warn(\n"
     ]
    },
    {
     "data": {
      "text/plain": [
       "14479.771171101673"
      ]
     },
     "execution_count": 16,
     "metadata": {},
     "output_type": "execute_result"
    }
   ],
   "source": [
    "from sklearn.ensemble import GradientBoostingRegressor\n",
    "from sklearn.ensemble import RandomForestRegressor\n",
    "from sklearn.linear_model import LinearRegression\n",
    "from sklearn.ensemble import VotingRegressor\n",
    "\n",
    "reg1 = GradientBoostingRegressor(random_state=1)\n",
    "reg2 = RandomForestRegressor(random_state=1)\n",
    "reg3 = LinearRegression()\n",
    "regr = VotingRegressor(estimators=[('gb', reg1), ('rf', reg2), ('lr', reg3)])\n",
    "regr.fit(train_x, train_y)  \n",
    "\n",
    "from sklearn.metrics import mean_squared_error\n",
    "\n",
    "\n",
    "y_pred = regr.predict(dev_x)\n",
    "error = mean_squared_error(y_true=dev_y, y_pred=y_pred, squared=False)\n",
    "error"
   ]
  },
  {
   "cell_type": "code",
   "execution_count": 20,
   "id": "3ea07862-2daf-45ec-8733-2ed79333d82d",
   "metadata": {},
   "outputs": [
    {
     "name": "stdout",
     "output_type": "stream",
     "text": [
      "Requirement already satisfied: xgboost in /Users/memduhgokirmak/git/enerji-tahmini/venv/lib/python3.9/site-packages (2.0.3)\n",
      "Requirement already satisfied: numpy in /Users/memduhgokirmak/git/enerji-tahmini/venv/lib/python3.9/site-packages (from xgboost) (1.26.4)\n",
      "Requirement already satisfied: scipy in /Users/memduhgokirmak/git/enerji-tahmini/venv/lib/python3.9/site-packages (from xgboost) (1.13.0)\n",
      "\n",
      "\u001b[1m[\u001b[0m\u001b[34;49mnotice\u001b[0m\u001b[1;39;49m]\u001b[0m\u001b[39;49m A new release of pip available: \u001b[0m\u001b[31;49m22.3.1\u001b[0m\u001b[39;49m -> \u001b[0m\u001b[32;49m24.0\u001b[0m\n",
      "\u001b[1m[\u001b[0m\u001b[34;49mnotice\u001b[0m\u001b[1;39;49m]\u001b[0m\u001b[39;49m To update, run: \u001b[0m\u001b[32;49mpip install --upgrade pip\u001b[0m\n"
     ]
    },
    {
     "name": "stderr",
     "output_type": "stream",
     "text": [
      "/Users/memduhgokirmak/git/enerji-tahmini/venv/lib/python3.9/site-packages/sklearn/metrics/_regression.py:483: FutureWarning: 'squared' is deprecated in version 1.4 and will be removed in 1.6. To calculate the root mean squared error, use the function'root_mean_squared_error'.\n",
      "  warnings.warn(\n"
     ]
    },
    {
     "data": {
      "text/plain": [
       "10015.988291545778"
      ]
     },
     "execution_count": 20,
     "metadata": {},
     "output_type": "execute_result"
    }
   ],
   "source": [
    "!pip install xgboost\n",
    "\n",
    "import xgboost as xgb\n",
    "\n",
    "\n",
    "regr = xgb.XGBRegressor(n_jobs=1)\n",
    "\n",
    "regr.fit(train_x, train_y)  \n",
    "\n",
    "from sklearn.metrics import mean_squared_error\n",
    "\n",
    "\n",
    "y_pred = regr.predict(dev_x)\n",
    "error = mean_squared_error(y_true=dev_y, y_pred=y_pred, squared=False)\n",
    "error"
   ]
  },
  {
   "cell_type": "code",
   "execution_count": null,
   "id": "b6f8df75-59a0-47e6-982a-30d2d898679c",
   "metadata": {},
   "outputs": [],
   "source": []
  }
 ],
 "metadata": {
  "kernelspec": {
   "display_name": "Python 3 (ipykernel)",
   "language": "python",
   "name": "python3"
  },
  "language_info": {
   "codemirror_mode": {
    "name": "ipython",
    "version": 3
   },
   "file_extension": ".py",
   "mimetype": "text/x-python",
   "name": "python",
   "nbconvert_exporter": "python",
   "pygments_lexer": "ipython3",
   "version": "3.9.6"
  }
 },
 "nbformat": 4,
 "nbformat_minor": 5
}
